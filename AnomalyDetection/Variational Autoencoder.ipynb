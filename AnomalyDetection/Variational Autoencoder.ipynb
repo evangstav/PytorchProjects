{
 "cells": [
  {
   "cell_type": "code",
   "execution_count": 1,
   "metadata": {
    "ExecuteTime": {
     "end_time": "2019-07-04T09:21:23.526896Z",
     "start_time": "2019-07-04T09:21:23.383312Z"
    }
   },
   "outputs": [],
   "source": [
    "import torch\n",
    "import torch.nn as nn\n",
    "import torch.nn.functional as F\n",
    "import  torch.optim as optim\n",
    "from torch.utils.data import DataLoader, Dataset"
   ]
  },
  {
   "cell_type": "code",
   "execution_count": 3,
   "metadata": {
    "ExecuteTime": {
     "end_time": "2019-07-04T09:21:40.093371Z",
     "start_time": "2019-07-04T09:21:35.725315Z"
    }
   },
   "outputs": [],
   "source": [
    "import sys\n",
    "import seaborn as sns\n",
    "sys.path.append('/home/aggelos-i3/ForecastingLib/')\n",
    "from tsutils import SequenceSpliter\n",
    "import pandas as pd\n",
    "from sklearn.preprocessing import StandardScaler, MinMaxScaler\n",
    "import numpy as np\n",
    "import matplotlib.pyplot as plt\n",
    "from tqdm import tqdm"
   ]
  },
  {
   "cell_type": "code",
   "execution_count": 6,
   "metadata": {
    "ExecuteTime": {
     "end_time": "2019-07-04T09:22:04.978921Z",
     "start_time": "2019-07-04T09:22:04.831354Z"
    }
   },
   "outputs": [],
   "source": [
    "class TimeSeriesDataSet(Dataset):\n",
    "\n",
    "    def __init__(self, datafile, features, lookback, feature_to_reconstruct):\n",
    "        self.features = features\n",
    "        self.feature_to_reconstruct = feature_to_reconstruct\n",
    "        self.lookback = lookback\n",
    "\n",
    "        df = pd.read_csv(datafile, usecols=self.features, delimiter='\\t')\n",
    "        df = df.rolling(lookback).mean().dropna()\n",
    "        spliter = SequenceSpliter(lookback, 1)\n",
    "        scaler = StandardScaler()\n",
    "        scaled = scaler.fit_transform(df)\n",
    "        df.iloc[:, :] = scaled\n",
    "        X, _ = spliter.fit_transform(df.values)\n",
    "        X = np.swapaxes(X, 1,2)\n",
    "        self.target_idx = df.columns.get_loc(self.feature_to_reconstruct)\n",
    "        self.dataset = torch.Tensor(X)\n",
    "\n",
    "    def __len__(self):\n",
    "        return len(self.dataset)\n",
    "\n",
    "    def __getitem__(self, item):\n",
    "        return torch.Tensor(self.dataset[item])\n",
    "\n",
    "\n",
    "workers = 4\n",
    "\n",
    "batch_size = 128\n",
    "\n",
    "lookback = 128\n",
    "\n",
    "\n",
    "\n",
    "features = ['voltage [V]',\n",
    "            'acceleration (actual) [m/(s*s)]',\n",
    "            'tractive effort (actual) [kN]',\n",
    "            'track-earth voltage [V]',\n",
    "            'speed (actual) [km/h]',\n",
    "            'current [A]',\n",
    "            'energy balance [kWh]',\n",
    "            'way (actual) [km]',\n",
    "            'line and running resistance [kN]',\n",
    "            'train configuration [1]',\n",
    "            'energy input [kWh]',\n",
    "            'train configuration [1]',\n",
    "            'usable braking energy [kWh]',\n",
    "            'used braking energy [kWh]'\n",
    "            ]\n",
    "\n",
    "nb_features = len(features)\n",
    "device = torch.device(\"cuda:0\" if torch.cuda.is_available() else \"cpu\")\n",
    "\n",
    "train_dataset = TimeSeriesDataSet(\"~/Downloads/simu Elbas/7h33NO/7hnz0038.xls\",\n",
    "                            lookback=lookback,\n",
    "                            features=features,\n",
    "                            feature_to_reconstruct='voltage [V]')\n",
    "\n",
    "train_dataloader = DataLoader(train_dataset, batch_size=batch_size, num_workers=workers, shuffle=True)\n",
    "\n",
    "validation_dataset = TimeSeriesDataSet(\"~/Downloads/simu Elbas/7h33NO/7hnz0040.xls\",\n",
    "                            lookback=lookback,\n",
    "                            features=features,\n",
    "                            feature_to_reconstruct='voltage [V]')\n",
    "\n",
    "validation_dataloader = DataLoader(validation_dataset, batch_size=batch_size, num_workers=workers, shuffle=True)\n"
   ]
  },
  {
   "cell_type": "code",
   "execution_count": 7,
   "metadata": {
    "ExecuteTime": {
     "end_time": "2019-07-04T09:22:05.687755Z",
     "start_time": "2019-07-04T09:22:05.679522Z"
    }
   },
   "outputs": [],
   "source": [
    "class Encoder(nn.Module):\n",
    "    \"\"\"This is the encoder part of the autoencoder\"\"\"\n",
    "    \n",
    "    def __init__(self, lookback):\n",
    "        super().__init__()\n",
    "        self.lookback = lookback\n",
    "        self.dilations = [2**i for i in range(1,int(np.log2(lookback/2)))]\n",
    "        self.conv1 = nn.Conv1d(13, self.lookback, kernel_size=3, stride=1, padding=1)\n",
    "        self.layers = nn.ModuleList([])\n",
    "        i=2\n",
    "        for dilation in self.dilations:\n",
    "            self.layers.append(nn.Conv1d(self.lookback//(i//2), self.lookback//i, kernel_size=3, stride=2, dilation=dilation, padding=dilation))\n",
    "            i *= 2\n",
    "        self.activation = nn.ReLU()\n",
    "        self.mean = nn.Linear(16, 16)\n",
    "        self.std = nn.Linear(16, 16)\n",
    "\n",
    "    \n",
    "    def forward(self, x):\n",
    "        x = self.activation(self.conv1(x))\n",
    "        for layer in self.layers[:-1]:\n",
    "            x = self.activation(layer(x))\n",
    "        x = self.layers[-1](x)\n",
    "        x = x.view(x.shape[0],x.shape[1]*x.shape[2])\n",
    "        \n",
    "\n",
    "        return self.mean(x), self.std(x)\n",
    "        "
   ]
  },
  {
   "cell_type": "code",
   "execution_count": 8,
   "metadata": {
    "ExecuteTime": {
     "end_time": "2019-07-04T09:22:06.420130Z",
     "start_time": "2019-07-04T09:22:06.415719Z"
    }
   },
   "outputs": [],
   "source": [
    "class Decoder(nn.Module):\n",
    "    def __init__(self, lookback):\n",
    "        \"\"\"The decoder part of the autoencoder \"\"\"\n",
    "        \n",
    "        super().__init__()\n",
    "        self.layers = nn.ModuleList([])\n",
    "        in_channels = 0\n",
    "        i=1\n",
    "        while in_channels != lookback//2:\n",
    "            in_channels = i*4\n",
    "            self.layers.append(nn.ConvTranspose1d(in_channels, 2*in_channels,kernel_size=in_channels, stride=1))\n",
    "            i *= 2\n",
    "        self.conv6 = nn.ConvTranspose1d(lookback, 13, 8, stride=1, padding=1)\n",
    "        self.activation = nn.LeakyReLU()\n",
    "\n",
    "    def forward(self, x):\n",
    "        x = x.view(x.shape[0],4,4)\n",
    "        for layer in self.layers:\n",
    "            x = self.activation(layer(x))\n",
    "        x = torch.sigmoid(self.conv6(x))\n",
    "        return x"
   ]
  },
  {
   "cell_type": "code",
   "execution_count": 9,
   "metadata": {
    "ExecuteTime": {
     "end_time": "2019-07-04T09:22:06.966603Z",
     "start_time": "2019-07-04T09:22:06.952010Z"
    }
   },
   "outputs": [],
   "source": [
    "class AE(nn.Module):\n",
    "    def __init__(self, lookback):\n",
    "        super().__init__()\n",
    "        self.encoder = Encoder(lookback)\n",
    "        self.decoder = Decoder(lookback)\n",
    "    def forward(self, x):\n",
    "        mean, std = self.encoder(x)\n",
    "        std = torch.exp(0.5*std)\n",
    "        eps = torch.rand_like(std)\n",
    "        z = eps.mul(std).add_(mean)\n",
    "        reconstructed = self.decoder(z)\n",
    "        return reconstructed, mean, std"
   ]
  },
  {
   "cell_type": "code",
   "execution_count": 10,
   "metadata": {
    "ExecuteTime": {
     "end_time": "2019-07-04T09:22:07.555901Z",
     "start_time": "2019-07-04T09:22:07.546998Z"
    }
   },
   "outputs": [],
   "source": [
    "def loss(original, reconstructed, mu, log_var):\n",
    "    CE = F.mse_loss(reconstructed, original)\n",
    "    KLD = -0.5 * torch.sum(1 + log_var - mu.pow(2) - log_var.exp())\n",
    "    \n",
    "    return KLD + CE"
   ]
  },
  {
   "cell_type": "code",
   "execution_count": 11,
   "metadata": {
    "ExecuteTime": {
     "end_time": "2019-07-04T09:22:08.202948Z",
     "start_time": "2019-07-04T09:22:08.181923Z"
    }
   },
   "outputs": [],
   "source": [
    "ae = AE(lookback).to(device)\n",
    "optimizer = optim.Adam(ae.parameters())\n",
    "history_train_loss = []\n",
    "history_val_loss = []\n",
    "dataloaders = {'train': train_dataloader,\n",
    "              'validation': validation_dataloader}"
   ]
  },
  {
   "cell_type": "code",
   "execution_count": 60,
   "metadata": {
    "ExecuteTime": {
     "end_time": "2019-07-04T10:54:44.976508Z",
     "start_time": "2019-07-04T10:35:23.392383Z"
    }
   },
   "outputs": [
    {
     "name": "stderr",
     "output_type": "stream",
     "text": [
      "  2%|▏         | 1/50 [00:28<23:01, 28.20s/it]"
     ]
    },
    {
     "name": "stdout",
     "output_type": "stream",
     "text": [
      "Epoch: 1, Train_Loss: 44.420204162597656\n"
     ]
    },
    {
     "name": "stderr",
     "output_type": "stream",
     "text": [
      "  8%|▊         | 4/50 [02:06<24:00, 31.31s/it]"
     ]
    },
    {
     "name": "stdout",
     "output_type": "stream",
     "text": [
      "Epoch: 4, Train_Loss: 73.90094757080078\n"
     ]
    },
    {
     "name": "stderr",
     "output_type": "stream",
     "text": [
      " 14%|█▍        | 7/50 [03:37<21:52, 30.51s/it]"
     ]
    },
    {
     "name": "stdout",
     "output_type": "stream",
     "text": [
      "Epoch: 7, Train_Loss: 41.95821762084961\n"
     ]
    },
    {
     "name": "stderr",
     "output_type": "stream",
     "text": [
      " 20%|██        | 10/50 [04:55<18:10, 27.27s/it]"
     ]
    },
    {
     "name": "stdout",
     "output_type": "stream",
     "text": [
      "Epoch: 10, Train_Loss: 76.49137115478516\n"
     ]
    },
    {
     "name": "stderr",
     "output_type": "stream",
     "text": [
      " 26%|██▌       | 13/50 [06:06<15:19, 24.84s/it]"
     ]
    },
    {
     "name": "stdout",
     "output_type": "stream",
     "text": [
      "Epoch: 13, Train_Loss: 34.496212005615234\n"
     ]
    },
    {
     "name": "stderr",
     "output_type": "stream",
     "text": [
      " 32%|███▏      | 16/50 [07:20<14:01, 24.76s/it]"
     ]
    },
    {
     "name": "stdout",
     "output_type": "stream",
     "text": [
      "Epoch: 16, Train_Loss: 73.98238372802734\n"
     ]
    },
    {
     "name": "stderr",
     "output_type": "stream",
     "text": [
      " 38%|███▊      | 19/50 [08:29<12:09, 23.54s/it]"
     ]
    },
    {
     "name": "stdout",
     "output_type": "stream",
     "text": [
      "Epoch: 19, Train_Loss: 31.06045913696289\n"
     ]
    },
    {
     "name": "stderr",
     "output_type": "stream",
     "text": [
      " 44%|████▍     | 22/50 [09:27<09:30, 20.37s/it]"
     ]
    },
    {
     "name": "stdout",
     "output_type": "stream",
     "text": [
      "Epoch: 22, Train_Loss: 70.09867858886719\n"
     ]
    },
    {
     "name": "stderr",
     "output_type": "stream",
     "text": [
      " 50%|█████     | 25/50 [10:25<08:15, 19.83s/it]"
     ]
    },
    {
     "name": "stdout",
     "output_type": "stream",
     "text": [
      "Epoch: 25, Train_Loss: 27.276409149169922\n"
     ]
    },
    {
     "name": "stderr",
     "output_type": "stream",
     "text": [
      " 56%|█████▌    | 28/50 [11:20<06:56, 18.93s/it]"
     ]
    },
    {
     "name": "stdout",
     "output_type": "stream",
     "text": [
      "Epoch: 28, Train_Loss: 65.88770294189453\n"
     ]
    },
    {
     "name": "stderr",
     "output_type": "stream",
     "text": [
      " 62%|██████▏   | 31/50 [12:27<06:43, 21.24s/it]"
     ]
    },
    {
     "name": "stdout",
     "output_type": "stream",
     "text": [
      "Epoch: 31, Train_Loss: 27.225858688354492\n"
     ]
    },
    {
     "name": "stderr",
     "output_type": "stream",
     "text": [
      " 68%|██████▊   | 34/50 [13:29<05:34, 20.91s/it]"
     ]
    },
    {
     "name": "stdout",
     "output_type": "stream",
     "text": [
      "Epoch: 34, Train_Loss: 63.146080017089844\n"
     ]
    },
    {
     "name": "stderr",
     "output_type": "stream",
     "text": [
      " 74%|███████▍  | 37/50 [14:21<04:01, 18.54s/it]"
     ]
    },
    {
     "name": "stdout",
     "output_type": "stream",
     "text": [
      "Epoch: 37, Train_Loss: 25.301279067993164\n"
     ]
    },
    {
     "name": "stderr",
     "output_type": "stream",
     "text": [
      " 80%|████████  | 40/50 [15:35<03:48, 22.85s/it]"
     ]
    },
    {
     "name": "stdout",
     "output_type": "stream",
     "text": [
      "Epoch: 40, Train_Loss: 57.83900451660156\n"
     ]
    },
    {
     "name": "stderr",
     "output_type": "stream",
     "text": [
      " 86%|████████▌ | 43/50 [16:42<02:42, 23.15s/it]"
     ]
    },
    {
     "name": "stdout",
     "output_type": "stream",
     "text": [
      "Epoch: 43, Train_Loss: 27.072406768798828\n"
     ]
    },
    {
     "name": "stderr",
     "output_type": "stream",
     "text": [
      " 92%|█████████▏| 46/50 [17:56<01:35, 23.83s/it]"
     ]
    },
    {
     "name": "stdout",
     "output_type": "stream",
     "text": [
      "Epoch: 46, Train_Loss: 53.538429260253906\n"
     ]
    },
    {
     "name": "stderr",
     "output_type": "stream",
     "text": [
      " 98%|█████████▊| 49/50 [19:00<00:22, 22.39s/it]"
     ]
    },
    {
     "name": "stdout",
     "output_type": "stream",
     "text": [
      "Epoch: 49, Train_Loss: 28.31790542602539\n"
     ]
    },
    {
     "name": "stderr",
     "output_type": "stream",
     "text": [
      "100%|██████████| 50/50 [19:21<00:00, 22.05s/it]\n"
     ]
    }
   ],
   "source": [
    "for epoch in tqdm(range(50)):\n",
    "    train_loss = 0\n",
    "    for mode, dataloader in dataloaders.items():\n",
    "        for batch in dataloader:\n",
    "                if mode == 'train':\n",
    "                    ae.train()\n",
    "                    optimizer.zero_grad()\n",
    "                    reconstructed, output_mean, output_std = ae(batch)\n",
    "                    train_loss += loss(batch, reconstructed, output_mean, output_std)\n",
    "                    train_loss.backward(retain_graph=True)\n",
    "                    optimizer.step()\n",
    "    if epoch%3 == 0:\n",
    "        print(f\"Epoch: {epoch+1}, Train_Loss: {train_loss.item()}\")\n",
    "            \n"
   ]
  },
  {
   "cell_type": "code",
   "execution_count": null,
   "metadata": {
    "ExecuteTime": {
     "start_time": "2019-07-04T11:12:24.418Z"
    }
   },
   "outputs": [],
   "source": [
    "reconstructed, _, _ = ae(train_dataset[0:1])\n",
    "print(reconstructed.shape, train_dataset[0:1].shape)\n",
    "plt.plot(reconstructed[0].detach().numpy())"
   ]
  },
  {
   "cell_type": "code",
   "execution_count": 51,
   "metadata": {
    "ExecuteTime": {
     "end_time": "2019-07-04T10:26:39.011792Z",
     "start_time": "2019-07-04T10:26:38.790055Z"
    }
   },
   "outputs": [
    {
     "data": {
      "text/plain": [
       "[<matplotlib.lines.Line2D at 0x7f660364fac8>,\n",
       " <matplotlib.lines.Line2D at 0x7f660364fc18>,\n",
       " <matplotlib.lines.Line2D at 0x7f660364fd68>,\n",
       " <matplotlib.lines.Line2D at 0x7f660364feb8>,\n",
       " <matplotlib.lines.Line2D at 0x7f6603648048>,\n",
       " <matplotlib.lines.Line2D at 0x7f6603648198>,\n",
       " <matplotlib.lines.Line2D at 0x7f66036482e8>,\n",
       " <matplotlib.lines.Line2D at 0x7f6603648438>,\n",
       " <matplotlib.lines.Line2D at 0x7f6603648588>,\n",
       " <matplotlib.lines.Line2D at 0x7f66036486d8>,\n",
       " <matplotlib.lines.Line2D at 0x7f66036a1f60>,\n",
       " <matplotlib.lines.Line2D at 0x7f6603648940>,\n",
       " <matplotlib.lines.Line2D at 0x7f6603648a90>,\n",
       " <matplotlib.lines.Line2D at 0x7f6603648be0>,\n",
       " <matplotlib.lines.Line2D at 0x7f6603648d30>,\n",
       " <matplotlib.lines.Line2D at 0x7f6603648e80>,\n",
       " <matplotlib.lines.Line2D at 0x7f6603648fd0>,\n",
       " <matplotlib.lines.Line2D at 0x7f6603655160>,\n",
       " <matplotlib.lines.Line2D at 0x7f66036552b0>,\n",
       " <matplotlib.lines.Line2D at 0x7f6603655400>,\n",
       " <matplotlib.lines.Line2D at 0x7f6603655550>,\n",
       " <matplotlib.lines.Line2D at 0x7f66036556a0>,\n",
       " <matplotlib.lines.Line2D at 0x7f66036557f0>,\n",
       " <matplotlib.lines.Line2D at 0x7f6603655940>,\n",
       " <matplotlib.lines.Line2D at 0x7f6603655a90>,\n",
       " <matplotlib.lines.Line2D at 0x7f6603655be0>,\n",
       " <matplotlib.lines.Line2D at 0x7f6603655d30>,\n",
       " <matplotlib.lines.Line2D at 0x7f6603655e80>,\n",
       " <matplotlib.lines.Line2D at 0x7f6603655fd0>,\n",
       " <matplotlib.lines.Line2D at 0x7f660365a160>,\n",
       " <matplotlib.lines.Line2D at 0x7f660365a2b0>,\n",
       " <matplotlib.lines.Line2D at 0x7f660365a400>,\n",
       " <matplotlib.lines.Line2D at 0x7f660365a550>,\n",
       " <matplotlib.lines.Line2D at 0x7f660365a6a0>,\n",
       " <matplotlib.lines.Line2D at 0x7f660365a7f0>,\n",
       " <matplotlib.lines.Line2D at 0x7f660365a940>,\n",
       " <matplotlib.lines.Line2D at 0x7f660365aa90>,\n",
       " <matplotlib.lines.Line2D at 0x7f660365abe0>,\n",
       " <matplotlib.lines.Line2D at 0x7f660365ad30>,\n",
       " <matplotlib.lines.Line2D at 0x7f660365ae80>,\n",
       " <matplotlib.lines.Line2D at 0x7f660365afd0>,\n",
       " <matplotlib.lines.Line2D at 0x7f660365e160>,\n",
       " <matplotlib.lines.Line2D at 0x7f660365e2b0>,\n",
       " <matplotlib.lines.Line2D at 0x7f660365e400>,\n",
       " <matplotlib.lines.Line2D at 0x7f660365e550>,\n",
       " <matplotlib.lines.Line2D at 0x7f660365e6a0>,\n",
       " <matplotlib.lines.Line2D at 0x7f660365e7f0>,\n",
       " <matplotlib.lines.Line2D at 0x7f660365e940>,\n",
       " <matplotlib.lines.Line2D at 0x7f660365ea90>,\n",
       " <matplotlib.lines.Line2D at 0x7f660365ebe0>,\n",
       " <matplotlib.lines.Line2D at 0x7f660365ed30>,\n",
       " <matplotlib.lines.Line2D at 0x7f660365ee80>,\n",
       " <matplotlib.lines.Line2D at 0x7f660365efd0>,\n",
       " <matplotlib.lines.Line2D at 0x7f6603664160>,\n",
       " <matplotlib.lines.Line2D at 0x7f66036642b0>,\n",
       " <matplotlib.lines.Line2D at 0x7f6603664400>,\n",
       " <matplotlib.lines.Line2D at 0x7f6603664550>,\n",
       " <matplotlib.lines.Line2D at 0x7f66036646a0>,\n",
       " <matplotlib.lines.Line2D at 0x7f66036647f0>,\n",
       " <matplotlib.lines.Line2D at 0x7f6603664940>,\n",
       " <matplotlib.lines.Line2D at 0x7f6603664a90>,\n",
       " <matplotlib.lines.Line2D at 0x7f6603664be0>,\n",
       " <matplotlib.lines.Line2D at 0x7f6603664d30>,\n",
       " <matplotlib.lines.Line2D at 0x7f6603664e80>,\n",
       " <matplotlib.lines.Line2D at 0x7f6603664fd0>,\n",
       " <matplotlib.lines.Line2D at 0x7f6603669160>,\n",
       " <matplotlib.lines.Line2D at 0x7f66036692b0>,\n",
       " <matplotlib.lines.Line2D at 0x7f6603669400>,\n",
       " <matplotlib.lines.Line2D at 0x7f6603669550>,\n",
       " <matplotlib.lines.Line2D at 0x7f66036696a0>,\n",
       " <matplotlib.lines.Line2D at 0x7f66036697f0>,\n",
       " <matplotlib.lines.Line2D at 0x7f6603669940>,\n",
       " <matplotlib.lines.Line2D at 0x7f6603669a90>,\n",
       " <matplotlib.lines.Line2D at 0x7f6603669be0>,\n",
       " <matplotlib.lines.Line2D at 0x7f6603669d30>,\n",
       " <matplotlib.lines.Line2D at 0x7f6603669e80>,\n",
       " <matplotlib.lines.Line2D at 0x7f6603669fd0>,\n",
       " <matplotlib.lines.Line2D at 0x7f660366f160>,\n",
       " <matplotlib.lines.Line2D at 0x7f660366f2b0>,\n",
       " <matplotlib.lines.Line2D at 0x7f660366f400>,\n",
       " <matplotlib.lines.Line2D at 0x7f660366f550>,\n",
       " <matplotlib.lines.Line2D at 0x7f660366f6a0>,\n",
       " <matplotlib.lines.Line2D at 0x7f660366f7f0>,\n",
       " <matplotlib.lines.Line2D at 0x7f660366f940>,\n",
       " <matplotlib.lines.Line2D at 0x7f660366fa90>,\n",
       " <matplotlib.lines.Line2D at 0x7f660366fbe0>,\n",
       " <matplotlib.lines.Line2D at 0x7f660366fd30>,\n",
       " <matplotlib.lines.Line2D at 0x7f660366fe80>,\n",
       " <matplotlib.lines.Line2D at 0x7f660366ffd0>,\n",
       " <matplotlib.lines.Line2D at 0x7f6603673160>,\n",
       " <matplotlib.lines.Line2D at 0x7f66036732b0>,\n",
       " <matplotlib.lines.Line2D at 0x7f6603673400>,\n",
       " <matplotlib.lines.Line2D at 0x7f6603673550>,\n",
       " <matplotlib.lines.Line2D at 0x7f66036736a0>,\n",
       " <matplotlib.lines.Line2D at 0x7f66036737f0>,\n",
       " <matplotlib.lines.Line2D at 0x7f6603673940>,\n",
       " <matplotlib.lines.Line2D at 0x7f6603673a90>,\n",
       " <matplotlib.lines.Line2D at 0x7f6603673be0>,\n",
       " <matplotlib.lines.Line2D at 0x7f6603673d30>,\n",
       " <matplotlib.lines.Line2D at 0x7f6603673e80>,\n",
       " <matplotlib.lines.Line2D at 0x7f6603673fd0>,\n",
       " <matplotlib.lines.Line2D at 0x7f6603679160>,\n",
       " <matplotlib.lines.Line2D at 0x7f66036792b0>,\n",
       " <matplotlib.lines.Line2D at 0x7f6603679400>,\n",
       " <matplotlib.lines.Line2D at 0x7f6603679550>,\n",
       " <matplotlib.lines.Line2D at 0x7f66036796a0>,\n",
       " <matplotlib.lines.Line2D at 0x7f66036797f0>,\n",
       " <matplotlib.lines.Line2D at 0x7f6603679940>,\n",
       " <matplotlib.lines.Line2D at 0x7f6603679a90>,\n",
       " <matplotlib.lines.Line2D at 0x7f6603679be0>,\n",
       " <matplotlib.lines.Line2D at 0x7f6603679d30>,\n",
       " <matplotlib.lines.Line2D at 0x7f6603679e80>,\n",
       " <matplotlib.lines.Line2D at 0x7f6603679fd0>,\n",
       " <matplotlib.lines.Line2D at 0x7f660367d160>,\n",
       " <matplotlib.lines.Line2D at 0x7f660367d2b0>,\n",
       " <matplotlib.lines.Line2D at 0x7f660367d400>,\n",
       " <matplotlib.lines.Line2D at 0x7f660367d550>,\n",
       " <matplotlib.lines.Line2D at 0x7f660367d6a0>,\n",
       " <matplotlib.lines.Line2D at 0x7f660367d7f0>,\n",
       " <matplotlib.lines.Line2D at 0x7f660367d940>,\n",
       " <matplotlib.lines.Line2D at 0x7f660367da90>,\n",
       " <matplotlib.lines.Line2D at 0x7f660367dbe0>,\n",
       " <matplotlib.lines.Line2D at 0x7f660367dd30>,\n",
       " <matplotlib.lines.Line2D at 0x7f660367de80>,\n",
       " <matplotlib.lines.Line2D at 0x7f660367dfd0>,\n",
       " <matplotlib.lines.Line2D at 0x7f6603604160>,\n",
       " <matplotlib.lines.Line2D at 0x7f66036042b0>,\n",
       " <matplotlib.lines.Line2D at 0x7f6603604400>]"
      ]
     },
     "execution_count": 51,
     "metadata": {},
     "output_type": "execute_result"
    },
    {
     "data": {
      "image/png": "[encoded data removed]",
      "text/plain": [
       "<Figure size 432x288 with 1 Axes>"
      ]
     },
     "metadata": {
      "needs_background": "light"
     },
     "output_type": "display_data"
    }
   ],
   "source": [
    "plt.plot(train_dataset[0].detach().numpy())"
   ]
  },
  {
   "cell_type": "code",
   "execution_count": 52,
   "metadata": {
    "ExecuteTime": {
     "end_time": "2019-07-04T10:26:44.409865Z",
     "start_time": "2019-07-04T10:26:44.404315Z"
    }
   },
   "outputs": [],
   "source": [
    "def reconstruction_loss(generated, original, mode='mean'):\n",
    "    if mode == 'mean':\n",
    "        return np.mean((generated.detach().numpy() - original.detach().numpy())**2, axis=(2))\n",
    "    elif mode == 'max':\n",
    "        return np.max((generated.detach().numpy() - original.detach().numpy())**2, axis=(2))"
   ]
  },
  {
   "cell_type": "code",
   "execution_count": 53,
   "metadata": {
    "ExecuteTime": {
     "end_time": "2019-07-04T10:26:45.810266Z",
     "start_time": "2019-07-04T10:26:44.662380Z"
    }
   },
   "outputs": [],
   "source": [
    "reconstructed,_,_ = ae(train_dataset[:])\n",
    "reconstruction_error = reconstruction_loss(reconstructed, train_dataset[:])"
   ]
  },
  {
   "cell_type": "code",
   "execution_count": 54,
   "metadata": {
    "ExecuteTime": {
     "end_time": "2019-07-04T10:26:45.960511Z",
     "start_time": "2019-07-04T10:26:45.854685Z"
    }
   },
   "outputs": [],
   "source": [
    "faulty_dataset = TimeSeriesDataSet(\"~/Downloads/simu Elbas/7h33D2/7hnz0038.xls\",\n",
    "                            lookback=lookback,\n",
    "                            features=features,\n",
    "                            feature_to_reconstruct='voltage [V]')"
   ]
  },
  {
   "cell_type": "code",
   "execution_count": 55,
   "metadata": {
    "ExecuteTime": {
     "end_time": "2019-07-04T10:26:47.160707Z",
     "start_time": "2019-07-04T10:26:46.004744Z"
    }
   },
   "outputs": [],
   "source": [
    "reconstructed,_,_ = ae(faulty_dataset[:])\n",
    "abnormal_reconstruction_error = reconstruction_loss(reconstructed, faulty_dataset[:])"
   ]
  },
  {
   "cell_type": "code",
   "execution_count": 56,
   "metadata": {
    "ExecuteTime": {
     "end_time": "2019-07-04T10:26:47.440160Z",
     "start_time": "2019-07-04T10:26:47.204943Z"
    },
    "cell_style": "split"
   },
   "outputs": [
    {
     "data": {
      "text/plain": [
       "<matplotlib.axes._subplots.AxesSubplot at 0x7f6603530d30>"
      ]
     },
     "execution_count": 56,
     "metadata": {},
     "output_type": "execute_result"
    },
    {
     "data": {
      "image/png": "[encoded data removed]",
      "text/plain": [
       "<Figure size 432x288 with 2 Axes>"
      ]
     },
     "metadata": {
      "needs_background": "light"
     },
     "output_type": "display_data"
    }
   ],
   "source": [
    "sns.heatmap(abnormal_reconstruction_error)\n"
   ]
  },
  {
   "cell_type": "code",
   "execution_count": 57,
   "metadata": {
    "ExecuteTime": {
     "end_time": "2019-07-04T10:26:47.720632Z",
     "start_time": "2019-07-04T10:26:47.482978Z"
    },
    "cell_style": "split",
    "scrolled": true
   },
   "outputs": [
    {
     "data": {
      "text/plain": [
       "<matplotlib.axes._subplots.AxesSubplot at 0x7f66034c4d68>"
      ]
     },
     "execution_count": 57,
     "metadata": {},
     "output_type": "execute_result"
    },
    {
     "data": {
      "image/png": "[encoded data removed]",
      "text/plain": [
       "<Figure size 432x288 with 2 Axes>"
      ]
     },
     "metadata": {
      "needs_background": "light"
     },
     "output_type": "display_data"
    }
   ],
   "source": [
    "sns.heatmap(reconstruction_error)"
   ]
  },
  {
   "cell_type": "code",
   "execution_count": 58,
   "metadata": {
    "ExecuteTime": {
     "end_time": "2019-07-04T10:26:48.051785Z",
     "start_time": "2019-07-04T10:26:47.915175Z"
    },
    "cell_style": "split"
   },
   "outputs": [
    {
     "data": {
      "text/plain": [
       "[<matplotlib.lines.Line2D at 0x7f660330a320>]"
      ]
     },
     "execution_count": 58,
     "metadata": {},
     "output_type": "execute_result"
    },
    {
     "data": {
      "image/png": "[encoded data removed]",
      "text/plain": [
       "<Figure size 432x288 with 1 Axes>"
      ]
     },
     "metadata": {
      "needs_background": "light"
     },
     "output_type": "display_data"
    }
   ],
   "source": [
    "plt.plot(reconstruction_error[:,2])\n",
    "plt.plot(abnormal_reconstruction_error[:,2])"
   ]
  },
  {
   "cell_type": "code",
   "execution_count": null,
   "metadata": {},
   "outputs": [],
   "source": [
    "ae\n"
   ]
  },
  {
   "cell_type": "code",
   "execution_count": null,
   "metadata": {},
   "outputs": [],
   "source": []
  }
 ],
 "metadata": {
  "hide_input": false,
  "kernelspec": {
   "display_name": "Python 3",
   "language": "python",
   "name": "python3"
  },
  "language_info": {
   "codemirror_mode": {
    "name": "ipython",
    "version": 3
   },
   "file_extension": ".py",
   "mimetype": "text/x-python",
   "name": "python",
   "nbconvert_exporter": "python",
   "pygments_lexer": "ipython3",
   "version": "3.7.3"
  },
  "toc": {
   "base_numbering": 1,
   "nav_menu": {},
   "number_sections": true,
   "sideBar": true,
   "skip_h1_title": false,
   "title_cell": "Table of Contents",
   "title_sidebar": "Contents",
   "toc_cell": false,
   "toc_position": {},
   "toc_section_display": true,
   "toc_window_display": false
  },
  "varInspector": {
   "cols": {
    "lenName": 16,
    "lenType": 16,
    "lenVar": 40
   },
   "kernels_config": {
    "python": {
     "delete_cmd_postfix": "",
     "delete_cmd_prefix": "del ",
     "library": "var_list.py",
     "varRefreshCmd": "print(var_dic_list())"
    },
    "r": {
     "delete_cmd_postfix": ") ",
     "delete_cmd_prefix": "rm(",
     "library": "var_list.r",
     "varRefreshCmd": "cat(var_dic_list()) "
    }
   },
   "types_to_exclude": [
    "module",
    "function",
    "builtin_function_or_method",
    "instance",
    "_Feature"
   ],
   "window_display": false
  }
 },
 "nbformat": 4,
 "nbformat_minor": 2
}
