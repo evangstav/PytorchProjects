{
 "cells": [
  {
   "cell_type": "code",
   "execution_count": 1,
   "metadata": {
    "ExecuteTime": {
     "end_time": "2019-07-04T09:21:23.526896Z",
     "start_time": "2019-07-04T09:21:23.383312Z"
    }
   },
   "outputs": [],
   "source": [
    "import torch\n",
    "import torch.nn as nn\n",
    "import torch.nn.functional as F\n",
    "import  torch.optim as optim\n",
    "from torch.utils.data import DataLoader, Dataset"
   ]
  },
  {
   "cell_type": "code",
   "execution_count": 3,
   "metadata": {
    "ExecuteTime": {
     "end_time": "2019-07-04T09:21:40.093371Z",
     "start_time": "2019-07-04T09:21:35.725315Z"
    }
   },
   "outputs": [],
   "source": [
    "import sys\n",
    "import seaborn as sns\n",
    "sys.path.append('/home/aggelos-i3/ForecastingLib/')\n",
    "from tsutils import SequenceSpliter\n",
    "import pandas as pd\n",
    "from sklearn.preprocessing import StandardScaler, MinMaxScaler\n",
    "import numpy as np\n",
    "import matplotlib.pyplot as plt\n",
    "from tqdm import tqdm"
   ]
  },
  {
   "cell_type": "code",
   "execution_count": 6,
   "metadata": {
    "ExecuteTime": {
     "end_time": "2019-07-04T09:22:04.978921Z",
     "start_time": "2019-07-04T09:22:04.831354Z"
    }
   },
   "outputs": [],
   "source": [
    "class TimeSeriesDataSet(Dataset):\n",
    "\n",
    "    def __init__(self, datafile, features, lookback, feature_to_reconstruct):\n",
    "        self.features = features\n",
    "        self.feature_to_reconstruct = feature_to_reconstruct\n",
    "        self.lookback = lookback\n",
    "\n",
    "        df = pd.read_csv(datafile, usecols=self.features, delimiter='\\t')\n",
    "        df = df.rolling(lookback).mean().dropna()\n",
    "        spliter = SequenceSpliter(lookback, 1)\n",
    "        scaler = StandardScaler()\n",
    "        scaled = scaler.fit_transform(df)\n",
    "        df.iloc[:, :] = scaled\n",
    "        X, _ = spliter.fit_transform(df.values)\n",
    "        X = np.swapaxes(X, 1,2)\n",
    "        self.target_idx = df.columns.get_loc(self.feature_to_reconstruct)\n",
    "        self.dataset = torch.Tensor(X)\n",
    "\n",
    "    def __len__(self):\n",
    "        return len(self.dataset)\n",
    "\n",
    "    def __getitem__(self, item):\n",
    "        return torch.Tensor(self.dataset[item])\n",
    "\n",
    "\n",
    "workers = 4\n",
    "\n",
    "batch_size = 128\n",
    "\n",
    "lookback = 128\n",
    "\n",
    "\n",
    "\n",
    "features = ['voltage [V]',\n",
    "            'acceleration (actual) [m/(s*s)]',\n",
    "            'tractive effort (actual) [kN]',\n",
    "            'track-earth voltage [V]',\n",
    "            'speed (actual) [km/h]',\n",
    "            'current [A]',\n",
    "            'energy balance [kWh]',\n",
    "            'way (actual) [km]',\n",
    "            'line and running resistance [kN]',\n",
    "            'train configuration [1]',\n",
    "            'energy input [kWh]',\n",
    "            'train configuration [1]',\n",
    "            'usable braking energy [kWh]',\n",
    "            'used braking energy [kWh]'\n",
    "            ]\n",
    "\n",
    "nb_features = len(features)\n",
    "device = torch.device(\"cuda:0\" if torch.cuda.is_available() else \"cpu\")\n",
    "\n",
    "train_dataset = TimeSeriesDataSet(\"~/Downloads/simu Elbas/7h33NO/7hnz0038.xls\",\n",
    "                            lookback=lookback,\n",
    "                            features=features,\n",
    "                            feature_to_reconstruct='voltage [V]')\n",
    "\n",
    "train_dataloader = DataLoader(train_dataset, batch_size=batch_size, num_workers=workers, shuffle=True)\n",
    "\n",
    "validation_dataset = TimeSeriesDataSet(\"~/Downloads/simu Elbas/7h33NO/7hnz0040.xls\",\n",
    "                            lookback=lookback,\n",
    "                            features=features,\n",
    "                            feature_to_reconstruct='voltage [V]')\n",
    "\n",
    "validation_dataloader = DataLoader(validation_dataset, batch_size=batch_size, num_workers=workers, shuffle=True)\n"
   ]
  },
  {
   "cell_type": "code",
   "execution_count": 7,
   "metadata": {
    "ExecuteTime": {
     "end_time": "2019-07-04T09:22:05.687755Z",
     "start_time": "2019-07-04T09:22:05.679522Z"
    }
   },
   "outputs": [],
   "source": [
    "class Encoder(nn.Module):\n",
    "    \"\"\"This is the encoder part of the autoencoder\"\"\"\n",
    "    \n",
    "    def __init__(self, lookback):\n",
    "        super().__init__()\n",
    "        self.lookback = lookback\n",
    "        self.dilations = [2**i for i in range(1,int(np.log2(lookback/2)))]\n",
    "        self.conv1 = nn.Conv1d(13, self.lookback, kernel_size=3, stride=1, padding=1)\n",
    "        self.layers = nn.ModuleList([])\n",
    "        i=2\n",
    "        for dilation in self.dilations:\n",
    "            self.layers.append(nn.Conv1d(self.lookback//(i//2), self.lookback//i, kernel_size=3, stride=2, dilation=dilation, padding=dilation))\n",
    "            i *= 2\n",
    "        self.activation = nn.ReLU()\n",
    "        self.mean = nn.Linear(16, 16)\n",
    "        self.std = nn.Linear(16, 16)\n",
    "\n",
    "    \n",
    "    def forward(self, x):\n",
    "        x = self.activation(self.conv1(x))\n",
    "        for layer in self.layers[:-1]:\n",
    "            x = self.activation(layer(x))\n",
    "        x = self.layers[-1](x)\n",
    "        x = x.view(x.shape[0],x.shape[1]*x.shape[2])\n",
    "        \n",
    "\n",
    "        return self.mean(x), self.std(x)\n",
    "        "
   ]
  },
  {
   "cell_type": "code",
   "execution_count": 8,
   "metadata": {
    "ExecuteTime": {
     "end_time": "2019-07-04T09:22:06.420130Z",
     "start_time": "2019-07-04T09:22:06.415719Z"
    }
   },
   "outputs": [],
   "source": [
    "class Decoder(nn.Module):\n",
    "    def __init__(self, lookback):\n",
    "        \"\"\"The decoder part of the autoencoder \"\"\"\n",
    "        \n",
    "        super().__init__()\n",
    "        self.layers = nn.ModuleList([])\n",
    "        in_channels = 0\n",
    "        i=1\n",
    "        while in_channels != lookback//2:\n",
    "            in_channels = i*4\n",
    "            self.layers.append(nn.ConvTranspose1d(in_channels, 2*in_channels,kernel_size=in_channels, stride=1))\n",
    "            i *= 2\n",
    "        self.conv6 = nn.ConvTranspose1d(lookback, 13, 8, stride=1, padding=1)\n",
    "        self.activation = nn.LeakyReLU()\n",
    "\n",
    "    def forward(self, x):\n",
    "        x = x.view(x.shape[0],4,4)\n",
    "        for layer in self.layers:\n",
    "            x = self.activation(layer(x))\n",
    "        x = torch.sigmoid(self.conv6(x))\n",
    "        return x"
   ]
  },
  {
   "cell_type": "code",
   "execution_count": 9,
   "metadata": {
    "ExecuteTime": {
     "end_time": "2019-07-04T09:22:06.966603Z",
     "start_time": "2019-07-04T09:22:06.952010Z"
    }
   },
   "outputs": [],
   "source": [
    "class AE(nn.Module):\n",
    "    def __init__(self, lookback):\n",
    "        super().__init__()\n",
    "        self.encoder = Encoder(lookback)\n",
    "        self.decoder = Decoder(lookback)\n",
    "    def forward(self, x):\n",
    "        mean, std = self.encoder(x)\n",
    "        std = torch.exp(0.5*std)\n",
    "        eps = torch.rand_like(std)\n",
    "        z = eps.mul(std).add_(mean)\n",
    "        reconstructed = self.decoder(z)\n",
    "        return reconstructed, mean, std"
   ]
  },
  {
   "cell_type": "code",
   "execution_count": 10,
   "metadata": {
    "ExecuteTime": {
     "end_time": "2019-07-04T09:22:07.555901Z",
     "start_time": "2019-07-04T09:22:07.546998Z"
    }
   },
   "outputs": [],
   "source": [
    "def loss(original, reconstructed, mu, log_var):\n",
    "    CE = F.mse_loss(reconstructed, original)\n",
    "    KLD = -0.5 * torch.sum(1 + log_var - mu.pow(2) - log_var.exp())\n",
    "    \n",
    "    return KLD + CE"
   ]
  },
  {
   "cell_type": "code",
   "execution_count": 11,
   "metadata": {
    "ExecuteTime": {
     "end_time": "2019-07-04T09:22:08.202948Z",
     "start_time": "2019-07-04T09:22:08.181923Z"
    }
   },
   "outputs": [],
   "source": [
    "ae = AE(lookback).to(device)\n",
    "optimizer = optim.Adam(ae.parameters())\n",
    "history_train_loss = []\n",
    "history_val_loss = []\n",
    "dataloaders = {'train': train_dataloader,\n",
    "              'validation': validation_dataloader}"
   ]
  },
  {
   "cell_type": "code",
   "execution_count": null,
   "metadata": {
    "ExecuteTime": {
     "start_time": "2019-07-04T09:22:08.918Z"
    }
   },
   "outputs": [
    {
     "name": "stderr",
     "output_type": "stream",
     "text": [
      " 10%|█         | 1/10 [00:10<01:33, 10.44s/it]"
     ]
    },
    {
     "name": "stdout",
     "output_type": "stream",
     "text": [
      "Epoch: 1, Train_Loss: 4593.51904296875\n"
     ]
    }
   ],
   "source": [
    "for epoch in tqdm(range(10)):\n",
    "    train_loss = 0\n",
    "    for mode, dataloader in dataloaders.items():\n",
    "        for batch in dataloader:\n",
    "                if mode == 'train':\n",
    "                    ae.train()\n",
    "                    optimizer.zero_grad()\n",
    "                    reconstructed, output_mean, output_std = ae(batch)\n",
    "                    train_loss += loss(batch, reconstructed, output_mean, output_std)\n",
    "                    train_loss.backward(retain_graph=True)\n",
    "                    optimizer.step()\n",
    "    if epoch%3 == 0:\n",
    "        print(f\"Epoch: {epoch+1}, Train_Loss: {train_loss.item()}\")\n",
    "            \n"
   ]
  },
  {
   "cell_type": "code",
   "execution_count": null,
   "metadata": {},
   "outputs": [],
   "source": [
    "reconstructed, _, _ = ae(train_dataset[0:1])\n",
    "print(reconstructed.shape, train_dataset[0:1].shape)\n",
    "plt.plot(reconstructed[0].detach().numpy())"
   ]
  },
  {
   "cell_type": "code",
   "execution_count": null,
   "metadata": {},
   "outputs": [],
   "source": [
    "plt.plot(train_dataset[0].detach().numpy())"
   ]
  },
  {
   "cell_type": "code",
   "execution_count": null,
   "metadata": {},
   "outputs": [],
   "source": [
    "def reconstruction_loss(generated, original, mode='mean'):\n",
    "    if mode == 'mean':\n",
    "        return np.mean((generated.detach().numpy() - original.detach().numpy())**2, axis=(2))\n",
    "    elif mode == 'max':\n",
    "        return np.max((generated.detach().numpy() - original.detach().numpy())**2, axis=(2))"
   ]
  },
  {
   "cell_type": "code",
   "execution_count": null,
   "metadata": {},
   "outputs": [],
   "source": [
    "reconstructed,_,_ = ae(train_dataset[:])\n",
    "reconstruction_error = reconstruction_loss(reconstructed, train_dataset[:])"
   ]
  },
  {
   "cell_type": "code",
   "execution_count": null,
   "metadata": {},
   "outputs": [],
   "source": [
    "faulty_dataset = TimeSeriesDataSet(\"~/Downloads/simu_Elbas/7h33D3/7hnz0038.xls\",\n",
    "                            lookback=lookback,\n",
    "                            features=features,\n",
    "                            feature_to_reconstruct='voltage [V]')"
   ]
  },
  {
   "cell_type": "code",
   "execution_count": null,
   "metadata": {},
   "outputs": [],
   "source": [
    "reconstructed,_,_ = ae(faulty_dataset[:])\n",
    "abnormal_reconstruction_error = reconstruction_loss(reconstructed, faulty_dataset[:])"
   ]
  },
  {
   "cell_type": "code",
   "execution_count": null,
   "metadata": {
    "cell_style": "split"
   },
   "outputs": [],
   "source": [
    "sns.heatmap(abnormal_reconstruction_error)\n"
   ]
  },
  {
   "cell_type": "code",
   "execution_count": null,
   "metadata": {
    "cell_style": "split",
    "scrolled": true
   },
   "outputs": [],
   "source": [
    "sns.heatmap(reconstruction_error)"
   ]
  },
  {
   "cell_type": "code",
   "execution_count": null,
   "metadata": {
    "cell_style": "split"
   },
   "outputs": [],
   "source": [
    "plt.plot(reconstruction_error[:,2])\n",
    "plt.plot(abnormal_reconstruction_error[:,2])"
   ]
  },
  {
   "cell_type": "code",
   "execution_count": null,
   "metadata": {},
   "outputs": [],
   "source": [
    "ae\n"
   ]
  },
  {
   "cell_type": "code",
   "execution_count": null,
   "metadata": {},
   "outputs": [],
   "source": []
  }
 ],
 "metadata": {
  "hide_input": false,
  "kernelspec": {
   "display_name": "Python 3",
   "language": "python",
   "name": "python3"
  },
  "language_info": {
   "codemirror_mode": {
    "name": "ipython",
    "version": 3
   },
   "file_extension": ".py",
   "mimetype": "text/x-python",
   "name": "python",
   "nbconvert_exporter": "python",
   "pygments_lexer": "ipython3",
   "version": "3.7.3"
  },
  "toc": {
   "base_numbering": 1,
   "nav_menu": {},
   "number_sections": true,
   "sideBar": true,
   "skip_h1_title": false,
   "title_cell": "Table of Contents",
   "title_sidebar": "Contents",
   "toc_cell": false,
   "toc_position": {},
   "toc_section_display": true,
   "toc_window_display": false
  },
  "varInspector": {
   "cols": {
    "lenName": 16,
    "lenType": 16,
    "lenVar": 40
   },
   "kernels_config": {
    "python": {
     "delete_cmd_postfix": "",
     "delete_cmd_prefix": "del ",
     "library": "var_list.py",
     "varRefreshCmd": "print(var_dic_list())"
    },
    "r": {
     "delete_cmd_postfix": ") ",
     "delete_cmd_prefix": "rm(",
     "library": "var_list.r",
     "varRefreshCmd": "cat(var_dic_list()) "
    }
   },
   "types_to_exclude": [
    "module",
    "function",
    "builtin_function_or_method",
    "instance",
    "_Feature"
   ],
   "window_display": false
  }
 },
 "nbformat": 4,
 "nbformat_minor": 2
}
